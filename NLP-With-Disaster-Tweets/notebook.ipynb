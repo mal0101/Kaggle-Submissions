{
 "cells": [
  {
   "cell_type": "markdown",
   "id": "472925ea",
   "metadata": {},
   "source": [
    "## Getting to know the data\n"
   ]
  },
  {
   "cell_type": "code",
   "execution_count": 1,
   "id": "1b3fcb49",
   "metadata": {},
   "outputs": [],
   "source": [
    "import numpy as np\n",
    "import pandas as pd\n",
    "import matplotlib.pyplot as plt"
   ]
  },
  {
   "cell_type": "code",
   "execution_count": 3,
   "id": "6388b81d",
   "metadata": {},
   "outputs": [
    {
     "data": {
      "text/html": [
       "<div>\n",
       "<style scoped>\n",
       "    .dataframe tbody tr th:only-of-type {\n",
       "        vertical-align: middle;\n",
       "    }\n",
       "\n",
       "    .dataframe tbody tr th {\n",
       "        vertical-align: top;\n",
       "    }\n",
       "\n",
       "    .dataframe thead th {\n",
       "        text-align: right;\n",
       "    }\n",
       "</style>\n",
       "<table border=\"1\" class=\"dataframe\">\n",
       "  <thead>\n",
       "    <tr style=\"text-align: right;\">\n",
       "      <th></th>\n",
       "      <th>id</th>\n",
       "      <th>keyword</th>\n",
       "      <th>location</th>\n",
       "      <th>text</th>\n",
       "      <th>target</th>\n",
       "    </tr>\n",
       "  </thead>\n",
       "  <tbody>\n",
       "    <tr>\n",
       "      <th>0</th>\n",
       "      <td>1</td>\n",
       "      <td>NaN</td>\n",
       "      <td>NaN</td>\n",
       "      <td>Our Deeds are the Reason of this #earthquake M...</td>\n",
       "      <td>1</td>\n",
       "    </tr>\n",
       "    <tr>\n",
       "      <th>1</th>\n",
       "      <td>4</td>\n",
       "      <td>NaN</td>\n",
       "      <td>NaN</td>\n",
       "      <td>Forest fire near La Ronge Sask. Canada</td>\n",
       "      <td>1</td>\n",
       "    </tr>\n",
       "    <tr>\n",
       "      <th>2</th>\n",
       "      <td>5</td>\n",
       "      <td>NaN</td>\n",
       "      <td>NaN</td>\n",
       "      <td>All residents asked to 'shelter in place' are ...</td>\n",
       "      <td>1</td>\n",
       "    </tr>\n",
       "    <tr>\n",
       "      <th>3</th>\n",
       "      <td>6</td>\n",
       "      <td>NaN</td>\n",
       "      <td>NaN</td>\n",
       "      <td>13,000 people receive #wildfires evacuation or...</td>\n",
       "      <td>1</td>\n",
       "    </tr>\n",
       "    <tr>\n",
       "      <th>4</th>\n",
       "      <td>7</td>\n",
       "      <td>NaN</td>\n",
       "      <td>NaN</td>\n",
       "      <td>Just got sent this photo from Ruby #Alaska as ...</td>\n",
       "      <td>1</td>\n",
       "    </tr>\n",
       "  </tbody>\n",
       "</table>\n",
       "</div>"
      ],
      "text/plain": [
       "   id keyword location                                               text  \\\n",
       "0   1     NaN      NaN  Our Deeds are the Reason of this #earthquake M...   \n",
       "1   4     NaN      NaN             Forest fire near La Ronge Sask. Canada   \n",
       "2   5     NaN      NaN  All residents asked to 'shelter in place' are ...   \n",
       "3   6     NaN      NaN  13,000 people receive #wildfires evacuation or...   \n",
       "4   7     NaN      NaN  Just got sent this photo from Ruby #Alaska as ...   \n",
       "\n",
       "   target  \n",
       "0       1  \n",
       "1       1  \n",
       "2       1  \n",
       "3       1  \n",
       "4       1  "
      ]
     },
     "execution_count": 3,
     "metadata": {},
     "output_type": "execute_result"
    }
   ],
   "source": [
    "tweet = pd.read_csv('data/train.csv')\n",
    "tweet.head()"
   ]
  },
  {
   "cell_type": "code",
   "execution_count": 6,
   "id": "a2fcc111",
   "metadata": {},
   "outputs": [
    {
     "data": {
      "text/plain": [
       "id           int64\n",
       "keyword     object\n",
       "location    object\n",
       "text        object\n",
       "target       int64\n",
       "dtype: object"
      ]
     },
     "execution_count": 6,
     "metadata": {},
     "output_type": "execute_result"
    }
   ],
   "source": [
    "tweet.dtypes"
   ]
  },
  {
   "cell_type": "code",
   "execution_count": 8,
   "id": "dfafeba9",
   "metadata": {},
   "outputs": [
    {
     "data": {
      "text/plain": [
       "(7613, 5)"
      ]
     },
     "execution_count": 8,
     "metadata": {},
     "output_type": "execute_result"
    }
   ],
   "source": [
    "tweet.shape"
   ]
  },
  {
   "cell_type": "code",
   "execution_count": 18,
   "id": "02c52d27",
   "metadata": {},
   "outputs": [
    {
     "data": {
      "text/plain": [
       "0    Our Deeds are the Reason of this #earthquake M...\n",
       "1               Forest fire near La Ronge Sask. Canada\n",
       "2    All residents asked to 'shelter in place' are ...\n",
       "3    13,000 people receive #wildfires evacuation or...\n",
       "4    Just got sent this photo from Ruby #Alaska as ...\n",
       "Name: text, dtype: object"
      ]
     },
     "execution_count": 18,
     "metadata": {},
     "output_type": "execute_result"
    }
   ],
   "source": [
    "tweet[\"location\"].head(5)\n",
    "tweet[\"keyword\"].head(5)\n",
    "tweet[\"text\"].head(5)"
   ]
  },
  {
   "cell_type": "code",
   "execution_count": 17,
   "id": "6dcfb09c",
   "metadata": {},
   "outputs": [
    {
     "data": {
      "image/png": "[encoded data removed]",
      "text/plain": [
       "<Figure size 640x480 with 1 Axes>"
      ]
     },
     "metadata": {},
     "output_type": "display_data"
    }
   ],
   "source": [
    "nan_counts = tweet.isna().sum()\n",
    "plot = nan_counts.plot.bar(title='Number of NaN values per column')\n",
    "plt.xlabel('Columns')\n",
    "plt.ylabel('Number of NaN values')\n",
    "plt.show()"
   ]
  },
  {
   "cell_type": "code",
   "execution_count": 20,
   "id": "ba20a955",
   "metadata": {},
   "outputs": [
    {
     "data": {
      "text/plain": [
       "keyword\n",
       "fatalities               45\n",
       "deluge                   42\n",
       "armageddon               42\n",
       "sinking                  41\n",
       "damage                   41\n",
       "                         ..\n",
       "forest%20fire            19\n",
       "epicentre                12\n",
       "threat                   11\n",
       "inundation               10\n",
       "radiation%20emergency     9\n",
       "Name: count, Length: 221, dtype: int64"
      ]
     },
     "execution_count": 20,
     "metadata": {},
     "output_type": "execute_result"
    }
   ],
   "source": [
    "tweet[\"keyword\"].value_counts()"
   ]
  },
  {
   "cell_type": "code",
   "execution_count": null,
   "id": "a0bb98e5",
   "metadata": {},
   "outputs": [
    {
     "data": {
      "text/plain": [
       "0     69\n",
       "1     38\n",
       "2    133\n",
       "3     65\n",
       "4     88\n",
       "Name: text_length, dtype: int64"
      ]
     },
     "execution_count": 22,
     "metadata": {},
     "output_type": "execute_result"
    }
   ],
   "source": [
    "# text length\n",
    "tweet['text_length'] = tweet['text'].apply(len)\n",
    "tweet['text_length'].head()"
   ]
  },
  {
   "cell_type": "code",
   "execution_count": null,
   "id": "0e0b2024",
   "metadata": {},
   "outputs": [
    {
     "name": "stdout",
     "output_type": "stream",
     "text": [
      "Correlation between text length and target: 0.18181684254460753\n"
     ]
    }
   ],
   "source": [
    "# correlaion between text length and target\n",
    "correlation = tweet['text_length'].corr(tweet['target'])\n",
    "print(f'Correlation between text length and target: {correlation}')\n",
    "# No correlation found"
   ]
  },
  {
   "cell_type": "code",
   "execution_count": null,
   "id": "9011515b",
   "metadata": {},
   "outputs": [
    {
     "data": {
      "text/html": [
       "<div>\n",
       "<style scoped>\n",
       "    .dataframe tbody tr th:only-of-type {\n",
       "        vertical-align: middle;\n",
       "    }\n",
       "\n",
       "    .dataframe tbody tr th {\n",
       "        vertical-align: top;\n",
       "    }\n",
       "\n",
       "    .dataframe thead th {\n",
       "        text-align: right;\n",
       "    }\n",
       "</style>\n",
       "<table border=\"1\" class=\"dataframe\">\n",
       "  <thead>\n",
       "    <tr style=\"text-align: right;\">\n",
       "      <th></th>\n",
       "      <th>keyword</th>\n",
       "      <th>text</th>\n",
       "      <th>keyword_in_text</th>\n",
       "    </tr>\n",
       "  </thead>\n",
       "  <tbody>\n",
       "    <tr>\n",
       "      <th>0</th>\n",
       "      <td>NaN</td>\n",
       "      <td>Our Deeds are the Reason of this #earthquake M...</td>\n",
       "      <td>False</td>\n",
       "    </tr>\n",
       "    <tr>\n",
       "      <th>1</th>\n",
       "      <td>NaN</td>\n",
       "      <td>Forest fire near La Ronge Sask. Canada</td>\n",
       "      <td>False</td>\n",
       "    </tr>\n",
       "    <tr>\n",
       "      <th>2</th>\n",
       "      <td>NaN</td>\n",
       "      <td>All residents asked to 'shelter in place' are ...</td>\n",
       "      <td>False</td>\n",
       "    </tr>\n",
       "    <tr>\n",
       "      <th>3</th>\n",
       "      <td>NaN</td>\n",
       "      <td>13,000 people receive #wildfires evacuation or...</td>\n",
       "      <td>False</td>\n",
       "    </tr>\n",
       "    <tr>\n",
       "      <th>4</th>\n",
       "      <td>NaN</td>\n",
       "      <td>Just got sent this photo from Ruby #Alaska as ...</td>\n",
       "      <td>False</td>\n",
       "    </tr>\n",
       "    <tr>\n",
       "      <th>...</th>\n",
       "      <td>...</td>\n",
       "      <td>...</td>\n",
       "      <td>...</td>\n",
       "    </tr>\n",
       "    <tr>\n",
       "      <th>95</th>\n",
       "      <td>accident</td>\n",
       "      <td>9 Mile backup on I-77 South...accident blockin...</td>\n",
       "      <td>True</td>\n",
       "    </tr>\n",
       "    <tr>\n",
       "      <th>96</th>\n",
       "      <td>accident</td>\n",
       "      <td>Has an accident changed your life? We will hel...</td>\n",
       "      <td>True</td>\n",
       "    </tr>\n",
       "    <tr>\n",
       "      <th>97</th>\n",
       "      <td>accident</td>\n",
       "      <td>#BREAKING: there was a deadly motorcycle car a...</td>\n",
       "      <td>True</td>\n",
       "    </tr>\n",
       "    <tr>\n",
       "      <th>98</th>\n",
       "      <td>accident</td>\n",
       "      <td>@flowri were you marinading it or was it an ac...</td>\n",
       "      <td>True</td>\n",
       "    </tr>\n",
       "    <tr>\n",
       "      <th>99</th>\n",
       "      <td>accident</td>\n",
       "      <td>only had a car for not even a week and got in ...</td>\n",
       "      <td>True</td>\n",
       "    </tr>\n",
       "  </tbody>\n",
       "</table>\n",
       "<p>100 rows × 3 columns</p>\n",
       "</div>"
      ],
      "text/plain": [
       "     keyword                                               text  \\\n",
       "0        NaN  Our Deeds are the Reason of this #earthquake M...   \n",
       "1        NaN             Forest fire near La Ronge Sask. Canada   \n",
       "2        NaN  All residents asked to 'shelter in place' are ...   \n",
       "3        NaN  13,000 people receive #wildfires evacuation or...   \n",
       "4        NaN  Just got sent this photo from Ruby #Alaska as ...   \n",
       "..       ...                                                ...   \n",
       "95  accident  9 Mile backup on I-77 South...accident blockin...   \n",
       "96  accident  Has an accident changed your life? We will hel...   \n",
       "97  accident  #BREAKING: there was a deadly motorcycle car a...   \n",
       "98  accident  @flowri were you marinading it or was it an ac...   \n",
       "99  accident  only had a car for not even a week and got in ...   \n",
       "\n",
       "    keyword_in_text  \n",
       "0             False  \n",
       "1             False  \n",
       "2             False  \n",
       "3             False  \n",
       "4             False  \n",
       "..              ...  \n",
       "95             True  \n",
       "96             True  \n",
       "97             True  \n",
       "98             True  \n",
       "99             True  \n",
       "\n",
       "[100 rows x 3 columns]"
      ]
     },
     "execution_count": 26,
     "metadata": {},
     "output_type": "execute_result"
    }
   ],
   "source": [
    "# check presence of keywords in text\n",
    "tweet['keyword_in_text'] = tweet.apply(lambda row: row['keyword'] in row['text'] if pd.notna(row['keyword']) else 0, axis=1)\n",
    "tweet[['keyword', 'text', 'keyword_in_text']].head(100)"
   ]
  },
  {
   "cell_type": "code",
   "execution_count": 29,
   "id": "356bf0d5",
   "metadata": {},
   "outputs": [
    {
     "name": "stdout",
     "output_type": "stream",
     "text": [
      "Common disaster keywords in non-disaster tweets:\n",
      "keyword\n",
      "body%20bags          40\n",
      "harm                 37\n",
      "armageddon           37\n",
      "wrecked              36\n",
      "ruin                 36\n",
      "                     ..\n",
      "typhoon               1\n",
      "suicide%20bombing     1\n",
      "suicide%20bomber      1\n",
      "outbreak              1\n",
      "oil%20spill           1\n",
      "Name: count, Length: 218, dtype: int64\n"
     ]
    }
   ],
   "source": [
    "# common disaster keywords in non-disaster tweets\n",
    "non_disaster_tweets = tweet[tweet['target'] == 0]\n",
    "common_keywords_non_disaster = non_disaster_tweets['keyword'].value_counts()\n",
    "print(\"Common disaster keywords in non-disaster tweets:\")\n",
    "print(common_keywords_non_disaster)"
   ]
  },
  {
   "cell_type": "code",
   "execution_count": 30,
   "id": "d3ab2280",
   "metadata": {},
   "outputs": [
    {
     "name": "stdout",
     "output_type": "stream",
     "text": [
      "Common disaster keywords in disaster tweets:\n",
      "keyword\n",
      "derailment     39\n",
      "wreckage       39\n",
      "outbreak       39\n",
      "debris         37\n",
      "oil%20spill    37\n",
      "               ..\n",
      "blazing         1\n",
      "epicentre       1\n",
      "body%20bag      1\n",
      "electrocute     1\n",
      "ruin            1\n",
      "Name: count, Length: 220, dtype: int64\n"
     ]
    }
   ],
   "source": [
    "# common disaster keywords in disaster tweets\n",
    "disaster_tweets = tweet[tweet['target'] == 1]\n",
    "common_keywords_disaster = disaster_tweets['keyword'].value_counts()\n",
    "print(\"Common disaster keywords in disaster tweets:\")\n",
    "print(common_keywords_disaster)"
   ]
  }
 ],
 "metadata": {
  "kernelspec": {
   "display_name": "tweet",
   "language": "python",
   "name": "python3"
  },
  "language_info": {
   "codemirror_mode": {
    "name": "ipython",
    "version": 3
   },
   "file_extension": ".py",
   "mimetype": "text/x-python",
   "name": "python",
   "nbconvert_exporter": "python",
   "pygments_lexer": "ipython3",
   "version": "3.12.12"
  }
 },
 "nbformat": 4,
 "nbformat_minor": 5
}
